{
 "cells": [
  {
   "cell_type": "code",
   "execution_count": 1,
   "metadata": {},
   "outputs": [],
   "source": [
    "%load_ext autoreload\n",
    "%autoreload 2\n",
    "%matplotlib widget"
   ]
  },
  {
   "cell_type": "code",
   "execution_count": 2,
   "metadata": {},
   "outputs": [],
   "source": [
    "import sys, os, sys, math\n",
    "from pathlib import Path\n",
    "from pprint import pprint\n",
    "\n",
    "import matplotlib.pyplot as plt, numpy as np\n",
    "from jfi import jaxm\n",
    "from jfi.experimental.jit import autojit, nestedautojit\n",
    "import redis\n",
    "import numpy as np\n",
    "\n",
    "root_path = Path(\"\").absolute().parent\n",
    "if str(root_path) not in sys.path:\n",
    "    sys.path.insert(0, str(root_path))\n",
    "from mpcjax import solve\n",
    "from mpcjax.problem_struct import Problem\n",
    "from tests.dynamics import f_fx_fu_fn"
   ]
  },
  {
   "cell_type": "code",
   "execution_count": 39,
   "metadata": {},
   "outputs": [],
   "source": [
    "N, xdim, udim = 20, 4, 2\n",
    "\n",
    "Q = np.tile(np.eye(xdim), (N, 1, 1))\n",
    "R = np.tile(1e-2 * np.eye(udim), (N, 1, 1))\n",
    "x0 = np.tile(np.ones(xdim), (1,))\n",
    "X_ref, U_ref = np.zeros((N, xdim)), np.zeros((N, udim))\n",
    "X_prev, U_prev = np.zeros((N, xdim)), np.zeros((N, udim))\n",
    "u_lim = 1e0\n",
    "u_l, u_u = -u_lim * np.ones((N, udim)), u_lim * np.ones((N, udim))\n",
    "\n",
    "problem = dict(\n",
    "    f_fx_fu_fn=f_fx_fu_fn,\n",
    "    Q=Q,\n",
    "    R=R,\n",
    "    x0=x0,\n",
    "    X_ref=X_ref,\n",
    "    U_ref=U_ref,\n",
    "    X_prev=X_prev,\n",
    "    U_prev=U_prev,\n",
    "    u_l=u_l,\n",
    "    u_u=u_u,\n",
    "    solver_settings=dict(smooth_alpha=1e2, solver=\"sqp\", linesearch=\"scan\", maxls=100),\n",
    "    reg_x=1e0,\n",
    "    reg_u=1e-1,\n",
    "    max_it=10,\n",
    "    res_tol=1e-12,\n",
    "    verbose=True,\n",
    "    #slew_rate=1e-2,\n",
    "    P=1.0 * jaxm.ones((N,)),\n",
    "    dtype=np.float32,\n",
    "    device=\"cpu\",\n",
    ")"
   ]
  },
  {
   "cell_type": "markdown",
   "metadata": {},
   "source": [
    "# develop matrix balancing routines"
   ]
  },
  {
   "cell_type": "code",
   "execution_count": 4,
   "metadata": {},
   "outputs": [],
   "source": [
    "rconn = redis.Redis()\n",
    "H = jaxm.frombuffer(rconn.get(\"H\"), dtype=np.float32)\n",
    "H = H.reshape((round(math.sqrt(H.size)),) * 2)"
   ]
  },
  {
   "cell_type": "code",
   "execution_count": 28,
   "metadata": {},
   "outputs": [],
   "source": [
    "Pl = jaxm.diag(1.0 / jaxm.linalg.norm(H, axis=-1))\n",
    "Pr = jaxm.diag(1.0 / jaxm.linalg.norm(Pl @ H, axis=-2))\n",
    "g = jaxm.randn(H.shape[-1]).astype(np.float32)"
   ]
  },
  {
   "cell_type": "code",
   "execution_count": 33,
   "metadata": {},
   "outputs": [
    {
     "name": "stdout",
     "output_type": "stream",
     "text": [
      "1.0235e+12\n",
      "5.4078e+07\n",
      "1.8400e+04\n"
     ]
    }
   ],
   "source": [
    "print(f\"{jaxm.linalg.cond(H):.4e}\")\n",
    "print(f\"{jaxm.linalg.cond(Pl @ H):.4e}\")\n",
    "print(f\"{jaxm.linalg.cond(Pl @ H @ Pr):.4e}\")"
   ]
  },
  {
   "cell_type": "code",
   "execution_count": 46,
   "metadata": {},
   "outputs": [],
   "source": [
    "xs = jaxm.linalg.solve(H.astype(jaxm.float64), g.astype(jaxm.float64))\n",
    "x1 = jaxm.linalg.solve((Pl @ H).astype(jaxm.float64), (Pl @ g).astype(jaxm.float64))\n",
    "x2 = jaxm.linalg.solve((Pl @ H).astype(jaxm.float32), (Pl @ g).astype(jaxm.float32))\n",
    "x3 = jaxm.linalg.solve(H.astype(jaxm.float32),  g.astype(jaxm.float32))\n",
    "x3 = jaxm.linalg.solve(H.astype(jaxm.float32),  g.astype(jaxm.float32))\n",
    "x4 = Pr @ jaxm.linalg.solve((Pl @ H @ Pr).astype(jaxm.float64), (Pl @ g).astype(jaxm.float64))\n",
    "x5 = Pr @ jaxm.linalg.solve((Pl @ H @ Pr).astype(jaxm.float32), (Pl @ g).astype(jaxm.float32))"
   ]
  },
  {
   "cell_type": "code",
   "execution_count": 47,
   "metadata": {},
   "outputs": [
    {
     "data": {
      "text/plain": [
       "Array([ 1.43073701e-04, -7.15367677e-05, -2.98351698e+00, -2.06574653e-02,\n",
       "        1.15311557e+01, -2.70816233e+01, -6.23125346e+00, -9.13589288e+00,\n",
       "       -1.16367513e+01,  3.84911937e-01,  3.83432008e+00,  1.65608561e+01,\n",
       "       -1.88264119e+00,  2.27686400e+01,  3.72778939e+01,  1.02663515e+01,\n",
       "       -9.56152279e+00,  1.42311540e+01, -1.52317662e+01, -3.54431537e+00,\n",
       "       -7.39688076e+00, -5.45252555e+00, -4.98109645e+00, -8.39461638e+00,\n",
       "       -9.89049900e+00, -1.04511483e+01,  1.40375734e+01, -6.99482800e+00,\n",
       "        5.47049405e+00, -3.20209808e+00, -1.44437717e+01,  3.74822280e+00,\n",
       "        2.96059974e+01, -3.01954925e+00, -2.20307704e+00,  6.71717737e+00,\n",
       "       -2.91466201e+01,  1.98967994e+01,  4.19558127e+00, -1.21700702e+01],      dtype=float64)"
      ]
     },
     "execution_count": 47,
     "metadata": {},
     "output_type": "execute_result"
    }
   ],
   "source": [
    "x4"
   ]
  },
  {
   "cell_type": "code",
   "execution_count": 48,
   "metadata": {},
   "outputs": [
    {
     "data": {
      "text/plain": [
       "Array([ 1.43072966e-04, -7.15364006e-05, -2.98351818e+00, -2.06500236e-02,\n",
       "        1.15311182e+01, -2.70816252e+01, -6.23125180e+00, -9.13589433e+00,\n",
       "       -1.16367320e+01,  3.84911403e-01,  3.83434112e+00,  1.65608505e+01,\n",
       "       -1.88265626e+00,  2.27686397e+01,  3.72779021e+01,  1.02663513e+01,\n",
       "       -9.56152855e+00,  1.42311514e+01, -1.52317635e+01, -3.54431478e+00,\n",
       "       -7.39688057e+00, -5.45252555e+00, -4.98107645e+00, -8.39461224e+00,\n",
       "       -9.89050383e+00, -1.04511500e+01,  1.40375717e+01, -6.99482623e+00,\n",
       "        5.47050189e+00, -3.20209658e+00, -1.44437813e+01,  3.74822194e+00,\n",
       "        2.96059969e+01, -3.01955030e+00, -2.20307941e+00,  6.71717691e+00,\n",
       "       -2.91466209e+01,  1.98968008e+01,  4.19558103e+00, -1.21700699e+01],      dtype=float64)"
      ]
     },
     "execution_count": 48,
     "metadata": {},
     "output_type": "execute_result"
    }
   ],
   "source": [
    "xs"
   ]
  },
  {
   "cell_type": "code",
   "execution_count": 49,
   "metadata": {},
   "outputs": [
    {
     "data": {
      "text/plain": [
       "Array([3.4176817e+00, 5.3216023e+00, 1.2287449e-04, 6.2042687e-05,\n",
       "       1.1598365e-04, 6.1943356e-05, 1.0911996e-04, 6.1690225e-05,\n",
       "       1.0229484e-04, 6.1282975e-05, 9.5521260e-05, 6.0720638e-05,\n",
       "       8.8814064e-05, 6.0001741e-05, 8.2190301e-05, 5.9124533e-05,\n",
       "       7.5669741e-05, 5.8087458e-05, 6.9275513e-05, 5.6889938e-05,\n",
       "       6.3035259e-05, 5.5533837e-05, 5.6982997e-05, 5.4026361e-05,\n",
       "       5.1162788e-05, 5.2385785e-05, 4.5636680e-05, 5.0653540e-05,\n",
       "       4.0504470e-05, 4.8921193e-05, 3.5960562e-05, 4.7395461e-05,\n",
       "       3.2484360e-05, 4.6570854e-05, 3.1583186e-05, 4.7753383e-05,\n",
       "       3.9118338e-05, 5.5036959e-05, 8.7474677e-05, 8.7909226e-05],      dtype=float32)"
      ]
     },
     "execution_count": 49,
     "metadata": {},
     "output_type": "execute_result"
    }
   ],
   "source": [
    "jaxm.linalg.norm(P @ H, axis=-2)"
   ]
  },
  {
   "cell_type": "code",
   "execution_count": 50,
   "metadata": {},
   "outputs": [
    {
     "name": "stdout",
     "output_type": "stream",
     "text": [
      "5.1948e-07\n",
      "3.1252e-06\n",
      "1.4192e-06\n",
      "6.7272e-07\n",
      "2.2781e-06\n"
     ]
    }
   ],
   "source": [
    "print(f\"{jaxm.linalg.norm(xs - x1) / jaxm.linalg.norm(xs):.4e}\")\n",
    "print(f\"{jaxm.linalg.norm(xs - x2) / jaxm.linalg.norm(xs):.4e}\")\n",
    "print(f\"{jaxm.linalg.norm(xs - x3) / jaxm.linalg.norm(xs):.4e}\")\n",
    "print(f\"{jaxm.linalg.norm(xs - x4) / jaxm.linalg.norm(xs):.4e}\")\n",
    "print(f\"{jaxm.linalg.norm(xs - x5) / jaxm.linalg.norm(xs):.4e}\")"
   ]
  },
  {
   "cell_type": "markdown",
   "metadata": {},
   "source": [
    "# solve"
   ]
  },
  {
   "cell_type": "code",
   "execution_count": 22,
   "metadata": {},
   "outputs": [],
   "source": [
    "prob = Problem(xdim=xdim, udim=udim, N=N)\n",
    "prob.f_fx_fu_fn = f_fx_fu_fn"
   ]
  },
  {
   "cell_type": "code",
   "execution_count": 55,
   "metadata": {},
   "outputs": [
    {
     "name": "stdout",
     "output_type": "stream",
     "text": [
      "+------+------------+------------+------------+----------+----------+----------+\n",
      "|  it  |   elaps    |    obj     |   resid    |  reg_x   |  reg_u   |  alpha   |\n",
      "+------+------------+------------+------------+----------+----------+----------+\n",
      "| 0001 |  2.470e-02 |  2.935e-01 |  1.936e+00 |  1.0e+00 |  1.0e-01 |  1.0e+02 |\n",
      "| 0002 |  4.890e-02 |  5.320e-02 |  1.502e-02 |  1.0e+00 |  1.0e-01 |  1.0e+02 |\n",
      "| 0003 |  7.184e-02 |  5.319e-02 |  4.965e-03 |  1.0e+00 |  1.0e-01 |  1.0e+02 |\n",
      "| 0004 |  9.785e-02 |  5.319e-02 |  2.652e-03 |  1.0e+00 |  1.0e-01 |  1.0e+02 |\n",
      "| 0005 |  1.208e-01 |  5.319e-02 |  2.563e-03 |  1.0e+00 |  1.0e-01 |  1.0e+02 |\n",
      "| 0006 |  1.464e-01 |  5.319e-02 |  1.608e-03 |  1.0e+00 |  1.0e-01 |  1.0e+02 |\n",
      "| 0007 |  1.757e-01 |  5.319e-02 |  1.929e-04 |  1.0e+00 |  1.0e-01 |  1.0e+02 |\n",
      "| 0008 |  2.019e-01 |  5.319e-02 |  1.528e-09 |  1.0e+00 |  1.0e-01 |  1.0e+02 |\n",
      "| 0009 |  2.271e-01 |  5.319e-02 |  3.635e-04 |  1.0e+00 |  1.0e-01 |  1.0e+02 |\n",
      "| 0010 |  2.503e-01 |  5.319e-02 |  7.451e-09 |  1.0e+00 |  1.0e-01 |  1.0e+02 |\n",
      "+------+------------+------------+------------+----------+----------+----------+\n",
      "dtype = float32, device = TFRT_CPU_0\n",
      "Timer unit: 0.001 s\n",
      "\n",
      "Total time: 0.256109 s\n",
      "File: /home/rdyro/Dropbox/stanford/sensitivity_analysis/mpcjax/mpcjax/jax_solver.py\n",
      "Function: solve at line 153\n",
      "\n",
      "Line #      Hits         Time  Per Hit   % Time  Line Contents\n",
      "==============================================================\n",
      "   153                                           def solve(\n",
      "   154                                               f_fx_fu_fn: Callable,\n",
      "   155                                               Q: Array,\n",
      "   156                                               R: Array,\n",
      "   157                                               x0: Array,\n",
      "   158                                               X_ref: Optional[Array] = None,\n",
      "   159                                               U_ref: Optional[Array] = None,\n",
      "   160                                               X_prev: Optional[Array] = None,\n",
      "   161                                               U_prev: Optional[Array] = None,\n",
      "   162                                               x_l: Optional[Array] = None,\n",
      "   163                                               x_u: Optional[Array] = None,\n",
      "   164                                               u_l: Optional[Array] = None,\n",
      "   165                                               u_u: Optional[Array] = None,\n",
      "   166                                               verbose: bool = False,\n",
      "   167                                               max_it: int = 100,\n",
      "   168                                               time_limit: float = 1000.0,\n",
      "   169                                               res_tol: float = 1e-5,\n",
      "   170                                               reg_x: float = 1e0,\n",
      "   171                                               reg_u: float = 1e-2,\n",
      "   172                                               slew_rate: Optional[float] = None,\n",
      "   173                                               u0_slew: Optional[Array] = None,\n",
      "   174                                               lin_cost_fn: Optional[Callable] = None,\n",
      "   175                                               diff_cost_fn: Optional[Callable] = None,\n",
      "   176                                               cost_fn: Optional[Callable] = None,  # deprecated, do not use\n",
      "   177                                               solver_settings: Optional[dict[str, Any]] = None,\n",
      "   178                                               solver_state: Optional[Any] = None,\n",
      "   179                                               return_min_viol: bool = False,\n",
      "   180                                               min_viol_it0: int = -1,\n",
      "   181                                               dtype: Any | None = None,\n",
      "   182                                               device: Any | None = None,\n",
      "   183                                               direct_solve: bool = False,\n",
      "   184                                               **extra_kw,\n",
      "   185                                           ) -> tuple[Array, Array, dict[str, Any]]:\n",
      "   186                                               \"\"\"Compute the SCP solution to a non-linear dynamics, quadratic cost, control problem with\n",
      "   187                                               optional non-linear cost term.\n",
      "   188                                           \n",
      "   189                                               Args:\n",
      "   190                                                   f_fx_fu_fn (Callable): Dynamics with linearization callable.\n",
      "   191                                                   Q (Array): The quadratic state cost.\n",
      "   192                                                   R (Array): The quadratic control cost.\n",
      "   193                                                   x0 (Array): Initial state.\n",
      "   194                                                   X_ref (Optional[Array], optional): Reference state trajectory. Defaults to zeros.\n",
      "   195                                                   U_ref (Optional[Array], optional): Reference control trajectory. Defaults to zeros.\n",
      "   196                                                   X_prev (Optional[Array], optional): Previous state solution. Defaults to x0.\n",
      "   197                                                   U_prev (Optional[Array], optional): Previous control solution. Defaults to zeros.\n",
      "   198                                                   x_l (Optional[Array], optional): Lower bound state constraint. Defaults to no cstrs.\n",
      "   199                                                   x_u (Optional[Array], optional): Upper bound state constraint. Defaults to no cstrs.\n",
      "   200                                                   u_l (Optional[Array], optional): Lower bound control constraint.. Defaults to no cstrs.\n",
      "   201                                                   u_u (Optional[Array], optional): Upper bound control constraint.. Defaults to no cstrs.\n",
      "   202                                                   verbose (bool, optional): Whether to print output. Defaults to False.\n",
      "   203                                                   max_it (int, optional): Max number of SCP iterations. Defaults to 100.\n",
      "   204                                                   time_limit (float, optional): Time limit in seconds. Defaults to 1000.0.\n",
      "   205                                                   res_tol (float, optional): Residual tolerance. Defaults to 1e-5.\n",
      "   206                                                   reg_x (float, optional): State improvement regularization. Defaults to 1e0.\n",
      "   207                                                   reg_u (float, optional): Control improvement regularization. Defaults to 1e-2.\n",
      "   208                                                   slew_rate (float, optional): Slew rate regularization. Defaults to 0.0.\n",
      "   209                                                   u0_slew (Optional[Array], optional): Slew control to regularize to. Defaults to None.\n",
      "   210                                                   lin_cost_fn (Optional[Callable], optional): Linearization of an extra non-linear cost\n",
      "   211                                                                                               function. Defaults to None.\n",
      "   212                                                   diff_obj_fn (Optional[Callable], optional): Extra additive obj function. Defaults to None.\n",
      "   213                                                   solver_settings (Optional[dict[str, Any]], optional): Solver settings. Defaults to None.\n",
      "   214                                                   return_min_viol (bool, optional): Whether to return minimum violation solution as well.\n",
      "   215                                                                                     Defaults to False.\n",
      "   216                                                   min_viol_it0 (int, optional): First iteration to store minimum violation solutions.\n",
      "   217                                                                                 Defaults to -1, which means immediately.\n",
      "   218                                                   dtype: data type to use in the solver\n",
      "   219                                                   device: device to use in the solver (e.g., \"cpu\", \"cuda\" / \"gpu\")\n",
      "   220                                                   differentiate_rollout: bool: Whether to differentiate the rollout function. Defaults to\n",
      "   221                                                                                False.\n",
      "   222                                                   **extra_kw: extra keyword arguments to pass to the objective function.\n",
      "   223                                               Returns:\n",
      "   224                                                   tuple[Array, Array, dict[str, Any]]: X, U, data\n",
      "   225                                               \"\"\"\n",
      "   226                                           \n",
      "   227         1          0.0      0.0      0.0      dtype = Q.dtype if dtype is None else jfi.default_dtype_for_device(device)\n",
      "   228         1          0.0      0.0      0.0      device = (Q.device() if hasattr(Q, \"device\") else \"cpu\") if device is None else device\n",
      "   229         1          0.0      0.0      0.0      topts = dict(device=device, dtype=dtype)\n",
      "   230                                           \n",
      "   231         1          0.0      0.0      0.0      data = dict(solver_data=[], hist=[], sol_hist=[])\n",
      "   232         1          0.0      0.0      0.0      field_names = [\"it\", \"elaps\", \"obj\", \"resid\", \"reg_x\", \"reg_u\", \"alpha\"]\n",
      "   233         1          0.0      0.0      0.0      fmts = [\"%04d\", \"%8.3e\", \"%8.3e\", \"%8.3e\", \"%.1e\", \"%.1e\", \"%.1e\"]\n",
      "   234         1          0.0      0.0      0.0      tp = TablePrinter(field_names, fmts=fmts)\n",
      "   235         1          0.0      0.0      0.0      min_viol = jaxm.inf\n",
      "   236         1          5.7      5.7      2.2      problems = _build_problems(\n",
      "   237         1          0.0      0.0      0.0          f_fx_fu_fn=f_fx_fu_fn,\n",
      "   238         1          0.0      0.0      0.0          Q=Q,\n",
      "   239         1          0.0      0.0      0.0          R=R,\n",
      "   240         1          0.0      0.0      0.0          x0=x0,\n",
      "   241         1          0.0      0.0      0.0          X_ref=X_ref,\n",
      "   242         1          0.0      0.0      0.0          U_ref=U_ref,\n",
      "   243         1          0.0      0.0      0.0          X_prev=X_prev,\n",
      "   244         1          0.0      0.0      0.0          U_prev=U_prev,\n",
      "   245         1          0.0      0.0      0.0          x_l=x_l,\n",
      "   246         1          0.0      0.0      0.0          x_u=x_u,\n",
      "   247         1          0.0      0.0      0.0          u_l=u_l,\n",
      "   248         1          0.0      0.0      0.0          u_u=u_u,\n",
      "   249         1          0.0      0.0      0.0          reg_x=reg_x,\n",
      "   250         1          0.0      0.0      0.0          reg_u=reg_u,\n",
      "   251         1          0.0      0.0      0.0          slew_rate=slew_rate,\n",
      "   252         1          0.0      0.0      0.0          u0_slew=u0_slew,\n",
      "   253         1          0.0      0.0      0.0          cost_fn=cost_fn,\n",
      "   254         1          0.0      0.0      0.0          solver_settings=solver_settings,\n",
      "   255         1          0.0      0.0      0.0          solver_state=solver_state,\n",
      "   256         1          0.0      0.0      0.0          dtype=dtype,\n",
      "   257         1          0.0      0.0      0.0          device=device,\n",
      "   258         1          0.0      0.0      0.0          **extra_kw\n",
      "   259                                               )\n",
      "   260                                           \n",
      "   261                                               # solve sequentially, linearizing ##############################################################\n",
      "   262         1          0.0      0.0      0.0      t_elaps = time.time()\n",
      "   263         1          0.0      0.0      0.0      if verbose:\n",
      "   264         1          0.1      0.1      0.0          print_fn(tp.make_header())\n",
      "   265         1          0.0      0.0      0.0      it = 0\n",
      "   266         1          0.0      0.0      0.0      X, U, solver_data = None, None, None\n",
      "   267         1          0.0      0.0      0.0      X_prev, U_prev = problems[\"X_prev\"], problems[\"U_prev\"]\n",
      "   268        10          0.0      0.0      0.0      while it < max_it:\n",
      "   269        10         12.3      1.2      4.8          X_ = jaxm.cat([problems[\"x0\"][..., None, :], X_prev[..., :-1, :]], -2)\n",
      "   270        10          0.6      0.1      0.2          f, fx, fu = f_fx_fu_fn(X_, U_prev, problems[\"P\"])\n",
      "   271        10          0.0      0.0      0.0          if fx is not None:\n",
      "   272        10          3.6      0.4      1.4              fx = jaxm.to(jaxm.array(fx), **topts)\n",
      "   273        10          0.3      0.0      0.1              fx = fx.reshape((problems[\"M\"], problems[\"N\"], problems[\"xdim\"], problems[\"xdim\"]))\n",
      "   274        10          0.0      0.0      0.0          if fu is not None:\n",
      "   275        10          2.8      0.3      1.1              fu = jaxm.to(jaxm.array(fu), **topts)\n",
      "   276        10          0.3      0.0      0.1              fu = fu.reshape((problems[\"M\"], problems[\"N\"], problems[\"xdim\"], problems[\"udim\"]))\n",
      "   277                                           \n",
      "   278                                                   # augment the cost or add extra constraints ################################################\n",
      "   279        10          0.0      0.0      0.0          if \"extra_cstrs_fns\" in extra_kw:\n",
      "   280                                                       msg = \"The GPU version does not support custom convex constraints. \"\n",
      "   281                                                       msg += \"Please provide an `diff_obj_fn: Callable[[X, U], dict[str, Array]]` instead.\\n\"\n",
      "   282                                                       msg += \"i.e., The function signature should be `diff_obj_fn(X, U, problem)` where \"\n",
      "   283                                                       msg += \"`problem` contains problem data.\"\n",
      "   284                                                       raise ValueError(msg)\n",
      "   285        10          0.1      0.0      0.0          problems = dict(problems, f=f, fx=fx, fu=fu)\n",
      "   286        10          0.1      0.0      0.0          X_ref_, U_ref_ = _augment_cost(\n",
      "   287        10          0.0      0.0      0.0              lin_cost_fn,\n",
      "   288        10          0.0      0.0      0.0              X_prev,\n",
      "   289        10          0.0      0.0      0.0              U_prev,\n",
      "   290        10          0.0      0.0      0.0              problems[\"Q\"],\n",
      "   291        10          0.0      0.0      0.0              problems[\"R\"],\n",
      "   292        10          0.0      0.0      0.0              problems[\"X_ref\"],\n",
      "   293        10          0.0      0.0      0.0              problems[\"U_ref\"],\n",
      "   294        10          4.2      0.4      1.7              dict(problems, solver_settings=_jax_sanitize(problems[\"solver_settings\"])),\n",
      "   295                                                   )\n",
      "   296        10          0.2      0.0      0.1          problems_to_solve = dict(problems, X_ref=X_ref_, U_ref=U_ref_, X_prev=X_prev, U_prev=U_prev)\n",
      "   297                                                   # augment the cost or add extra constraints ################################################\n",
      "   298                                           \n",
      "   299                                                   # call the main affine problem solver ######################################################\n",
      "   300        10          0.0      0.0      0.0          t_aff_solve = time.time()\n",
      "   301        10          0.0      0.0      0.0          if not direct_solve:\n",
      "   302                                                       X, U, solver_data = scp_affine_solve(problems_to_solve, diff_cost_fn=diff_cost_fn)\n",
      "   303                                                   else:\n",
      "   304        10        202.3     20.2     79.0              X, U, solver_data = direct_affine_solve(problems_to_solve)\n",
      "   305                                           \n",
      "   306        10          0.0      0.0      0.0          t_aff_solve = time.time() - t_aff_solve\n",
      "   307                                           \n",
      "   308        10          0.0      0.0      0.0          solver_state = solver_data.get(\"solver_state\", None)\n",
      "   309        10          0.3      0.0      0.1          X = X.reshape((problems[\"M\"], problems[\"N\"] + 1, problems[\"xdim\"]))\n",
      "   310        10          0.2      0.0      0.1          U = U.reshape((problems[\"M\"], problems[\"N\"], problems[\"udim\"]))\n",
      "   311                                                   # call the main affine problem solver ######################################################\n",
      "   312                                           \n",
      "   313                                                   # return if the solver failed ##############################################################\n",
      "   314        10          1.5      0.1      0.6          if jaxm.any(jaxm.isnan(X)) or jaxm.any(jaxm.isnan(U)):\n",
      "   315                                                       if verbose:\n",
      "   316                                                           print_fn(\"Solver failed...\")\n",
      "   317                                                       return None, None, None\n",
      "   318                                                   # return if the solver failed ##############################################################\n",
      "   319                                           \n",
      "   320                                                   # compute residuals ########################################################################\n",
      "   321        10          8.4      0.8      3.3          X_ = X[..., 1:, :]\n",
      "   322        10          0.4      0.0      0.1          dX, dU = X_ - X_prev, U - U_prev\n",
      "   323        10          1.4      0.1      0.6          max_res = max(jaxm.max(jaxm.linalg.norm(dX, 2, -1)), jaxm.max(jaxm.linalg.norm(dU, 2, -1)))\n",
      "   324        10          0.4      0.0      0.1          dX, dU = X_ - X_ref, U - U_ref\n",
      "   325        10          0.2      0.0      0.1          obj = jaxm.mean(solver_data.get(\"obj\", 0.0))\n",
      "   326        10          7.1      0.7      2.8          X_prev, U_prev = X[..., 1:, :], U\n",
      "   327        10          0.0      0.0      0.0          if extra_kw.get(\"return_solhist\", False):\n",
      "   328                                                       data.setdefault(\"solhist\", [])\n",
      "   329                                                       data[\"solhist\"].append((X_prev, U_prev))\n",
      "   330                                           \n",
      "   331        10          0.0      0.0      0.0          t_run = time.time() - t_elaps\n",
      "   332        10          0.0      0.0      0.0          vals = (\n",
      "   333        10          0.0      0.0      0.0              it + 1,\n",
      "   334        10          0.0      0.0      0.0              t_run,\n",
      "   335        10          0.0      0.0      0.0              obj,\n",
      "   336        10          0.0      0.0      0.0              max_res,\n",
      "   337        10          0.2      0.0      0.1              jaxm.mean(reg_x),\n",
      "   338        10          0.1      0.0      0.1              jaxm.mean(reg_u),\n",
      "   339        10          0.1      0.0      0.0              jaxm.mean(problems[\"solver_settings\"][\"smooth_alpha\"]),\n",
      "   340                                                   )\n",
      "   341        10          0.0      0.0      0.0          if verbose:\n",
      "   342        10          1.6      0.2      0.6              print_fn(tp.make_values(vals))\n",
      "   343        10          0.0      0.0      0.0          data[\"solver_data\"].append(solver_data)\n",
      "   344        10          0.1      0.0      0.0          data[\"hist\"].append({k: val for (k, val) in zip(field_names, vals)})\n",
      "   345        10          0.0      0.0      0.0          data.setdefault(\"t_aff_solve\", [])\n",
      "   346        10          0.0      0.0      0.0          data[\"t_aff_solve\"].append(t_aff_solve)\n",
      "   347                                                   # compute residuals ########################################################################\n",
      "   348                                           \n",
      "   349                                                   # store the minimum violation solution #####################################################\n",
      "   350        10          0.0      0.0      0.0          if return_min_viol and (it >= min_viol_it0 or min_viol_it0 < 0):\n",
      "   351                                                       if min_viol > max_res:\n",
      "   352                                                           data[\"min_viol_sol\"], min_viol = (X, U), max_res\n",
      "   353                                                   # store the minimum violation solution #####################################################\n",
      "   354                                           \n",
      "   355        10          1.0      0.1      0.4          if max_res < res_tol:\n",
      "   356                                                       break\n",
      "   357        10          0.0      0.0      0.0          it += 1\n",
      "   358        10          0.0      0.0      0.0          if (time.time() - t_elaps) * (it + 1) / it > time_limit:\n",
      "   359                                                       break\n",
      "   360                                               # solve sequentially, linearizing ##############################################################\n",
      "   361                                           \n",
      "   362                                               # return the solution ##########################################################################\n",
      "   363         1          0.0      0.0      0.0      if verbose:\n",
      "   364         1          0.0      0.0      0.0          print_fn(tp.make_footer())\n",
      "   365         1          0.0      0.0      0.0      if verbose and max_res > 1e-2:\n",
      "   366                                                   msg = \"Bad solution found, the solution is approximate to a residual:\"\n",
      "   367                                                   print_fn(\"#\" * 80)\n",
      "   368                                                   print_fn(msg, \"%9.4e\" % max_res)\n",
      "   369                                                   print_fn(\"#\" * 80)\n",
      "   370         1          0.0      0.0      0.0      if x0.ndim == 2:\n",
      "   371                                                   X = X.reshape((problems[\"M\"], problems[\"N\"] + 1, problems[\"xdim\"]))\n",
      "   372                                                   U = U.reshape((problems[\"M\"], problems[\"N\"], problems[\"udim\"]))\n",
      "   373                                                   return X, U, data\n",
      "   374                                               else:\n",
      "   375         1          0.1      0.1      0.0          X = X.reshape((problems[\"N\"] + 1, problems[\"xdim\"]))\n",
      "   376         1          0.1      0.1      0.0          U = U.reshape((problems[\"N\"], problems[\"udim\"]))\n",
      "   377         1          0.0      0.0      0.0          return X, U, data\n",
      "   378                                               # return the solution ##########################################################################\n",
      "\n"
     ]
    }
   ],
   "source": [
    "from line_profiler import LineProfiler\n",
    "LP = LineProfiler()\n",
    "LP.add_function(solve)\n",
    "LP.wrap_function(solve)(**problem, direct_solve=True)\n",
    "#X, U, data = solve(**problem, direct_solve=True)\n",
    "print(f\"dtype = {X.dtype}, device = {X.device()}\")\n",
    "LP.print_stats(output_unit=1e-3)"
   ]
  },
  {
   "cell_type": "markdown",
   "metadata": {},
   "source": [
    "# Plot the results for a qualitative check"
   ]
  },
  {
   "cell_type": "code",
   "execution_count": 10,
   "metadata": {},
   "outputs": [
    {
     "data": {
      "text/plain": [
       "<matplotlib.legend.Legend at 0x7fc3c029d100>"
      ]
     },
     "execution_count": 10,
     "metadata": {},
     "output_type": "execute_result"
    },
    {
     "data": {
      "application/vnd.jupyter.widget-view+json": {
       "model_id": "bb1147e2e9024e8580cb282f361c9684",
       "version_major": 2,
       "version_minor": 0
      },
      "image/png": "[encoded data removed]",
      "text/html": [
       "\n",
       "            <div style=\"display: inline-block;\">\n",
       "                <div class=\"jupyter-widgets widget-label\" style=\"text-align: center;\">\n",
       "                    Figure\n",
       "                </div>\n",
       "                <img src='data:image/png;base64,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' width=900.0/>\n",
       "            </div>\n",
       "        "
      ],
      "text/plain": [
       "Canvas(toolbar=Toolbar(toolitems=[('Home', 'Reset original view', 'home', 'home'), ('Back', 'Back to previous …"
      ]
     },
     "metadata": {},
     "output_type": "display_data"
    }
   ],
   "source": [
    "fig, ax = plt.subplots(1, 2, figsize=(9, 4))\n",
    "for i in range(X.shape[-1]):\n",
    "    ax[0].plot(X[:, i], label=f\"$x_{i}$\")\n",
    "ax[0].legend()\n",
    "for i in range(U.shape[-1]):\n",
    "    ax[1].plot(U[:, i], label=f\"$u_{i}$\")\n",
    "ax[1].legend()"
   ]
  },
  {
   "cell_type": "markdown",
   "metadata": {},
   "source": [
    "# Check optimality conditions"
   ]
  },
  {
   "cell_type": "code",
   "execution_count": 71,
   "metadata": {},
   "outputs": [],
   "source": [
    "def solve(H, g, dtype=jaxm.float64):\n",
    "    return jaxm.linalg.solve(*jaxm.to((H, g), dtype=dtype))\n",
    "\n",
    "def solve_precond(H, g, L, R, dtype=jaxm.float64):\n",
    "    H, g, L, r = jaxm.to((H, g, L, R), dtype=dtype)\n",
    "    H = jaxm.diag(1.0 / L) @ H @ jaxm.diag(1.0 / R)\n",
    "    g = g / L\n",
    "    return jaxm.linalg.solve(H, g) / R\n",
    "\n",
    "def cond(H):\n",
    "    return jaxm.linalg.cond(jaxm.to(H, device=\"cpu\", dtype=jaxm.float64))"
   ]
  },
  {
   "cell_type": "code",
   "execution_count": 74,
   "metadata": {},
   "outputs": [
    {
     "name": "stdout",
     "output_type": "stream",
     "text": [
      "4.9932e+00\n",
      "1.9298e+01\n",
      "1.9298e+01\n",
      "1.9298e+01\n",
      "1.9298e+01\n",
      "8.3982e-01\n",
      "8.3982e-01\n"
     ]
    }
   ],
   "source": [
    "H = jaxm.randn((100, 100))\n",
    "g = jaxm.randn((100,))\n",
    "Q = jaxm.linalg.qr(H)[0]\n",
    "H = Q @ jaxm.diag(jaxm.logspace(-9, 0, Q.shape[-1])) @ Q.T\n",
    "\n",
    "ys = solve(H, g)\n",
    "L, R = jaxm.linalg.norm(H, axis=-1), jaxm.linalg.norm(H, axis=-2)\n",
    "L2, R2 = jaxm.linalg.norm(H, axis=-2), jaxm.linalg.norm(H, axis=-1)\n",
    "\n",
    "print(f\"{jaxm.norm(ys - solve(H, g, jaxm.float32)) / jaxm.norm(ys):.4e}\")\n",
    "print(f\"{jaxm.norm(ys - solve_precond(H, g, L, R, jaxm.float32)) / jaxm.norm(ys):.4e}\")\n",
    "print(f\"{jaxm.norm(ys - solve_precond(H, g, L2, R2, jaxm.float32)) / jaxm.norm(ys):.4e}\")\n",
    "print(f\"{jaxm.norm(ys - solve_precond(H, g, L, jaxm.ones(R.shape), jaxm.float32)) / jaxm.norm(ys):.4e}\")\n",
    "print(f\"{jaxm.norm(ys - solve_precond(H, g, L2, jaxm.ones(R.shape), jaxm.float32)) / jaxm.norm(ys):.4e}\")\n",
    "print(f\"{jaxm.norm(ys - solve_precond(H, g, jaxm.ones(R.shape), R, jaxm.float32)) / jaxm.norm(ys):.4e}\")\n",
    "print(f\"{jaxm.norm(ys - solve_precond(H, g, jaxm.ones(R.shape), R2, jaxm.float32)) / jaxm.norm(ys):.4e}\")"
   ]
  },
  {
   "cell_type": "code",
   "execution_count": 70,
   "metadata": {},
   "outputs": [
    {
     "name": "stdout",
     "output_type": "stream",
     "text": [
      "8.6951e+04\n",
      "8.6951e+04\n",
      "8.8527e+04\n",
      "8.8527e+04\n",
      "8.8527e+04\n",
      "8.8527e+04\n",
      "1.0000e+05\n"
     ]
    }
   ],
   "source": [
    "print(f\"{cond(jaxm.diag(1.0 / L) @ H @ jaxm.diag(1.0 / R)):.4e}\")\n",
    "print(f\"{cond(jaxm.diag(1.0 / L2) @ H @ jaxm.diag(1.0 / R2)):.4e}\")\n",
    "print(f\"{cond(jaxm.diag(1.0 / L) @ H):.4e}\")\n",
    "print(f\"{cond(jaxm.diag(1.0 / L2) @ H):.4e}\")\n",
    "print(f\"{cond(H @ jaxm.diag(1.0 / R)):.4e}\")\n",
    "print(f\"{cond(H @ jaxm.diag(1.0 / R2)):.4e}\")\n",
    "print(f\"{cond(H):.4e}\")"
   ]
  },
  {
   "cell_type": "code",
   "execution_count": null,
   "metadata": {},
   "outputs": [],
   "source": []
  }
 ],
 "metadata": {
  "kernelspec": {
   "display_name": "devel",
   "language": "python",
   "name": "python3"
  },
  "language_info": {
   "codemirror_mode": {
    "name": "ipython",
    "version": 3
   },
   "file_extension": ".py",
   "mimetype": "text/x-python",
   "name": "python",
   "nbconvert_exporter": "python",
   "pygments_lexer": "ipython3",
   "version": "3.9.13"
  },
  "orig_nbformat": 4
 },
 "nbformat": 4,
 "nbformat_minor": 2
}
