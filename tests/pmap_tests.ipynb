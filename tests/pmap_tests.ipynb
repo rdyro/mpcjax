{
 "cells": [
  {
   "cell_type": "code",
   "execution_count": 1,
   "metadata": {},
   "outputs": [],
   "source": [
    "%load_ext autoreload\n",
    "%autoreload 2\n",
    "%matplotlib widget"
   ]
  },
  {
   "cell_type": "code",
   "execution_count": 2,
   "metadata": {},
   "outputs": [],
   "source": [
    "import time\n",
    "\n",
    "import numpy as np\n",
    "\n",
    "from jaxfi import jaxm\n",
    "from jaxfi.experimental.auto_pmap import auto_pmap\n",
    "from mpcjax import solve, solve_problems\n",
    "from mpcjax import utils\n",
    "\n",
    "import jax\n",
    "\n",
    "from dynamics import f_fx_fu_fn"
   ]
  },
  {
   "cell_type": "code",
   "execution_count": 3,
   "metadata": {},
   "outputs": [
    {
     "data": {
      "text/plain": [
       "(Array([-10.062562 , -11.92967  ,  -9.772968 ,  -7.0987687,  -9.095894 ,\n",
       "         -8.501585 ,  -9.0253725, -11.4022   , -10.289578 ,  -8.640935 ],      dtype=float32),\n",
       " Array([-8., -8., -8., -8., -8., -8., -8., -8., -8., -8.], dtype=float32))"
      ]
     },
     "execution_count": 3,
     "metadata": {},
     "output_type": "execute_result"
    }
   ],
   "source": [
    "def fn(x, y, z):\n",
    "    return (x * y[\"shape\"]) - z, 2 - z\n",
    "\n",
    "\n",
    "x = jaxm.randn(10)\n",
    "y = {\"shape\": jaxm.randn(())}\n",
    "z = jaxm.array(10)\n",
    "\n",
    "#jaxm.jit(utils.auto_sharding(fn, in_axes=(0, dict(shape=None), None)))(x, y, z)\n",
    "auto_pmap(fn, in_axes=(0, dict(shape=None), None))(x, y, z)"
   ]
  },
  {
   "cell_type": "code",
   "execution_count": 4,
   "metadata": {},
   "outputs": [],
   "source": [
    "def wait(x):\n",
    "    time.sleep(1)\n",
    "    return jaxm.array(1, dtype=np.int32)\n",
    "\n",
    "def pure_fn(x):\n",
    "    return jax.pure_callback(wait, jax.ShapeDtypeStruct((), np.int32), x)"
   ]
  },
  {
   "cell_type": "code",
   "execution_count": 5,
   "metadata": {},
   "outputs": [
    {
     "data": {
      "text/plain": [
       "Array(1, dtype=int32)"
      ]
     },
     "execution_count": 5,
     "metadata": {},
     "output_type": "execute_result"
    }
   ],
   "source": [
    "pure_fn(jaxm.randn((10)))"
   ]
  },
  {
   "cell_type": "code",
   "execution_count": 42,
   "metadata": {},
   "outputs": [
    {
     "name": "stdout",
     "output_type": "stream",
     "text": [
      "floor_size: 6, batch_size: 10\n"
     ]
    },
    {
     "data": {
      "text/plain": [
       "Array([1, 1, 1, 1, 1, 1, 1, 1, 1, 1], dtype=int32)"
      ]
     },
     "execution_count": 42,
     "metadata": {},
     "output_type": "execute_result"
    }
   ],
   "source": [
    "utils.auto_pmap(pure_fn, in_axes=0)(jaxm.randn((10)))"
   ]
  },
  {
   "cell_type": "code",
   "execution_count": 8,
   "metadata": {},
   "outputs": [],
   "source": [
    "N, xdim, udim = 20, 4, 2\n",
    "\n",
    "Q = np.tile(np.eye(xdim), (N, 1, 1))\n",
    "R = np.tile(1e-2 * np.eye(udim), (N, 1, 1))\n",
    "x0 = np.tile(np.ones(xdim), (1,))\n",
    "X_ref, U_ref = np.zeros((N, xdim)), np.zeros((N, udim))\n",
    "X_prev, U_prev = np.zeros((N, xdim)), np.zeros((N, udim))\n",
    "u_lim = 1e0\n",
    "u_l, u_u = -u_lim * np.ones((N, udim)), u_lim * np.ones((N, udim))\n",
    "\n",
    "problem = dict(\n",
    "    f_fx_fu_fn=f_fx_fu_fn,\n",
    "    Q=Q,\n",
    "    R=R,\n",
    "    x0=x0,\n",
    "    X_ref=X_ref,\n",
    "    U_ref=U_ref,\n",
    "    X_prev=X_prev,\n",
    "    U_prev=U_prev,\n",
    "    u_l=u_l,\n",
    "    u_u=u_u,\n",
    "    solver_settings=dict(smooth_alpha=1e2, solver=\"sqp\", linesearch=\"scan\", maxls=50),\n",
    "    reg_x=1e0,\n",
    "    reg_u=1e-1,\n",
    "    max_it=10,\n",
    "    res_tol=1e-7,\n",
    "    verbose=True,\n",
    "    slew_rate=1e-2,\n",
    "    P=1.0 * jaxm.ones((N,)),\n",
    "    dtype=np.float64,\n",
    "    device=\"cpu\",\n",
    ")\n",
    "problem = jaxm.to(problem, dtype=jaxm.float64)"
   ]
  },
  {
   "cell_type": "code",
   "execution_count": 21,
   "metadata": {},
   "outputs": [
    {
     "name": "stdout",
     "output_type": "stream",
     "text": [
      "+------+------------+------------+------------+----------+----------+----------+\n",
      "|  it  |   elaps    |    obj     |   resid    |  reg_x   |  reg_u   |  alpha   |\n",
      "+------+------------+------------+------------+----------+----------+----------+\n",
      "| 0001 |  3.642e-02 | -3.758e+00 |  1.934e+00 |  1.0e+00 |  1.0e-01 |  1.0e+02 |\n",
      "| 0002 |  6.806e-02 | -3.998e+00 |  1.553e-02 |  1.0e+00 |  1.0e-01 |  1.0e+02 |\n",
      "| 0003 |  1.003e-01 | -3.998e+00 |  3.470e-03 |  1.0e+00 |  1.0e-01 |  1.0e+02 |\n",
      "| 0004 |  1.327e-01 | -3.998e+00 |  2.126e-03 |  1.0e+00 |  1.0e-01 |  1.0e+02 |\n",
      "| 0005 |  1.652e-01 | -3.998e+00 |  1.452e-03 |  1.0e+00 |  1.0e-01 |  1.0e+02 |\n",
      "| 0006 |  1.953e-01 | -3.998e+00 |  9.921e-04 |  1.0e+00 |  1.0e-01 |  1.0e+02 |\n",
      "| 0007 |  2.272e-01 | -3.998e+00 |  6.790e-04 |  1.0e+00 |  1.0e-01 |  1.0e+02 |\n",
      "| 0008 |  2.601e-01 | -3.998e+00 |  4.654e-04 |  1.0e+00 |  1.0e-01 |  1.0e+02 |\n",
      "| 0009 |  2.936e-01 | -3.998e+00 |  3.194e-04 |  1.0e+00 |  1.0e-01 |  1.0e+02 |\n",
      "| 0010 |  3.253e-01 | -3.998e+00 |  2.195e-04 |  1.0e+00 |  1.0e-01 |  1.0e+02 |\n",
      "+------+------------+------------+------------+----------+----------+----------+\n"
     ]
    }
   ],
   "source": [
    "#X1, U1, _ = solve(**problem, direct_solve=True)\n",
    "#X1, U1, _ = solve_problems([problem], direct_solve=True)\n",
    "sols = solve_problems(7 * [problem], direct_solve=True)\n",
    "X1, U1, _ = sols[0]"
   ]
  },
  {
   "cell_type": "code",
   "execution_count": null,
   "metadata": {},
   "outputs": [
    {
     "data": {
      "text/plain": [
       "dtype('float64')"
      ]
     },
     "execution_count": 6,
     "metadata": {},
     "output_type": "execute_result"
    }
   ],
   "source": [
    "X1.dtype"
   ]
  },
  {
   "cell_type": "code",
   "execution_count": 23,
   "metadata": {},
   "outputs": [],
   "source": [
    "from jax.experimental.maps import xmap\n",
    "\n",
    "\n",
    "def f(x, y):\n",
    "    return x * y\n",
    "\n",
    "\n",
    "import jax.numpy as jnp\n",
    "\n",
    "xs = jnp.arange(12).reshape(4, 3)  # This will be batched (4 batches, each of size 3)\n",
    "y = jaxm.randn((4, 3))  # This will be the same for all batches\n",
    "\n",
    "\n",
    "# xmap configuration\n",
    "f_xmap = xmap(\n",
    "    f,\n",
    "    #in_axes=({0: \"batch\"}, {0: None}),\n",
    "    #out_axes={0: \"batch\"},\n",
    "    in_axes=([\"i\", ...], [\"i\", ...]),\n",
    "    out_axes=[\"i\", ...],\n",
    ")\n",
    "\n",
    "result_xmap = f_xmap(xs, y)"
   ]
  },
  {
   "cell_type": "code",
   "execution_count": 24,
   "metadata": {},
   "outputs": [
    {
     "data": {
      "text/plain": [
       "Array([[  0.        ,   1.4197668 ,   0.48174685],\n",
       "       [ -4.028483  ,   1.479233  ,   5.863267  ],\n",
       "       [  4.3966804 ,   5.27136   ,  -1.712921  ],\n",
       "       [-12.868704  , -14.880747  ,  -7.1762233 ]], dtype=float32)"
      ]
     },
     "execution_count": 24,
     "metadata": {},
     "output_type": "execute_result"
    }
   ],
   "source": [
    "result_xmap"
   ]
  },
  {
   "cell_type": "code",
   "execution_count": 32,
   "metadata": {},
   "outputs": [],
   "source": [
    "x = jaxm.randn((7, 12))\n",
    "y = jnp.arange(1) + 1e3\n",
    "#jaxm.jit(\n",
    "\n",
    "def fn_call(x, y):\n",
    "    return xmap(\n",
    "        lambda x, y: x * y,\n",
    "        in_axes=([\"i\", ...], [...]),\n",
    "        # in_axes=(['i', ...], None),\n",
    "        out_axes=[\"i\", ...],\n",
    "    )(x, y)"
   ]
  },
  {
   "cell_type": "code",
   "execution_count": 34,
   "metadata": {},
   "outputs": [
    {
     "ename": "AttributeError",
     "evalue": "'NoneType' object has no attribute 'empty'",
     "output_type": "error",
     "traceback": [
      "\u001b[0;31m---------------------------------------------------------------------------\u001b[0m",
      "\u001b[0;31mAttributeError\u001b[0m                            Traceback (most recent call last)",
      "Cell \u001b[0;32mIn[34], line 1\u001b[0m\n\u001b[0;32m----> 1\u001b[0m \u001b[43mjaxm\u001b[49m\u001b[38;5;241;43m.\u001b[39;49m\u001b[43mjit\u001b[49m\u001b[43m(\u001b[49m\u001b[43mfn_call\u001b[49m\u001b[43m)\u001b[49m\u001b[43m(\u001b[49m\u001b[43mx\u001b[49m\u001b[43m,\u001b[49m\u001b[43m \u001b[49m\u001b[43my\u001b[49m\u001b[43m)\u001b[49m\n",
      "    \u001b[0;31m[... skipping hidden 12 frame]\u001b[0m\n",
      "File \u001b[0;32m~/.pyenv/versions/3.11.6/envs/devel2/lib/python3.11/site-packages/jax/_src/interpreters/pxla.py:2095\u001b[0m, in \u001b[0;36mlower_mesh_computation\u001b[0;34m(fun_or_jaxpr, api_name, fun_name, mesh, in_shardings, out_shardings, donated_invars, spmd_lowering, global_in_avals, tiling_method, lowering_parameters)\u001b[0m\n\u001b[1;32m   2081\u001b[0m \u001b[38;5;129m@profiler\u001b[39m\u001b[38;5;241m.\u001b[39mannotate_function\n\u001b[1;32m   2082\u001b[0m \u001b[38;5;28;01mdef\u001b[39;00m \u001b[38;5;21mlower_mesh_computation\u001b[39m(\n\u001b[1;32m   2083\u001b[0m     fun_or_jaxpr: lu\u001b[38;5;241m.\u001b[39mWrappedFun \u001b[38;5;241m|\u001b[39m core\u001b[38;5;241m.\u001b[39mClosedJaxpr,\n\u001b[0;32m   (...)\u001b[0m\n\u001b[1;32m   2093\u001b[0m     tiling_method: TilingMethod \u001b[38;5;241m|\u001b[39m \u001b[38;5;28;01mNone\u001b[39;00m,\n\u001b[1;32m   2094\u001b[0m     lowering_parameters: mlir\u001b[38;5;241m.\u001b[39mLoweringParameters) \u001b[38;5;241m-\u001b[39m\u001b[38;5;241m>\u001b[39m MeshComputation:\n\u001b[0;32m-> 2095\u001b[0m   \u001b[38;5;28;01massert\u001b[39;00m \u001b[38;5;129;01mnot\u001b[39;00m \u001b[43mmesh\u001b[49m\u001b[38;5;241;43m.\u001b[39;49m\u001b[43mempty\u001b[49m\n\u001b[1;32m   2096\u001b[0m   backend \u001b[38;5;241m=\u001b[39m xb\u001b[38;5;241m.\u001b[39mget_device_backend(mesh\u001b[38;5;241m.\u001b[39mdevices\u001b[38;5;241m.\u001b[39mflat[\u001b[38;5;241m0\u001b[39m])\n\u001b[1;32m   2097\u001b[0m   name_stack \u001b[38;5;241m=\u001b[39m source_info_util\u001b[38;5;241m.\u001b[39mnew_name_stack(wrap_name(fun_name, api_name))\n",
      "\u001b[0;31mAttributeError\u001b[0m: 'NoneType' object has no attribute 'empty'"
     ]
    }
   ],
   "source": [
    "fn_call)(x, y)"
   ]
  },
  {
   "cell_type": "code",
   "execution_count": 92,
   "metadata": {},
   "outputs": [],
   "source": [
    "import jax\n",
    "from jax.experimental import mesh_utils\n",
    "from jax.sharding import PositionalSharding\n",
    "\n",
    "devices = mesh_utils.create_device_mesh((4,), devices=jax.devices(\"cpu\")[:4])\n",
    "sharding = PositionalSharding(devices)"
   ]
  },
  {
   "cell_type": "code",
   "execution_count": 93,
   "metadata": {},
   "outputs": [
    {
     "data": {
      "text/plain": [
       "PositionalSharding([[{CPU 0}]\n",
       "                    [{CPU 1}]\n",
       "                    [{CPU 2}]\n",
       "                    [{CPU 3}]])"
      ]
     },
     "execution_count": 93,
     "metadata": {},
     "output_type": "execute_result"
    }
   ],
   "source": [
    "sharding.reshape((-1, 1))"
   ]
  },
  {
   "cell_type": "code",
   "execution_count": 95,
   "metadata": {},
   "outputs": [],
   "source": [
    "@jaxm.jit\n",
    "def matmul(x, W, b):\n",
    "    z = jnp.dot(x, W) + b\n",
    "    z = jaxm.sin(jnp.dot(z, W) + b)\n",
    "    z = jaxm.sin(jnp.dot(z, W) + b)\n",
    "    return z"
   ]
  },
  {
   "cell_type": "code",
   "execution_count": 96,
   "metadata": {},
   "outputs": [],
   "source": [
    "x = jaxm.randn((1024, 2048), device=\"cpu\")\n",
    "W, b = jaxm.randn((2048, 2048), device=\"cpu\"), jaxm.randn((2048,), device=\"cpu\")"
   ]
  },
  {
   "cell_type": "code",
   "execution_count": 99,
   "metadata": {},
   "outputs": [
    {
     "data": {
      "text/html": [
       "<pre style=\"white-space:pre;overflow-x:auto;line-height:normal;font-family:Menlo,'DejaVu Sans Mono',consolas,'Courier New',monospace\"><span style=\"color: #ffffff; text-decoration-color: #ffffff; background-color: #393b79\">                                                  </span>\n",
       "<span style=\"color: #ffffff; text-decoration-color: #ffffff; background-color: #393b79\">                      CPU 0                       </span>\n",
       "<span style=\"color: #ffffff; text-decoration-color: #ffffff; background-color: #393b79\">                                                  </span>\n",
       "<span style=\"color: #ffffff; text-decoration-color: #ffffff; background-color: #de9ed6\">                                                  </span>\n",
       "<span style=\"color: #ffffff; text-decoration-color: #ffffff; background-color: #de9ed6\">                      CPU 1                       </span>\n",
       "<span style=\"color: #ffffff; text-decoration-color: #ffffff; background-color: #de9ed6\">                                                  </span>\n",
       "<span style=\"color: #ffffff; text-decoration-color: #ffffff; background-color: #ad494a\">                                                  </span>\n",
       "<span style=\"color: #ffffff; text-decoration-color: #ffffff; background-color: #ad494a\">                      CPU 2                       </span>\n",
       "<span style=\"color: #ffffff; text-decoration-color: #ffffff; background-color: #ad494a\">                                                  </span>\n",
       "<span style=\"color: #000000; text-decoration-color: #000000; background-color: #b5cf6b\">                                                  </span>\n",
       "<span style=\"color: #000000; text-decoration-color: #000000; background-color: #b5cf6b\">                      CPU 3                       </span>\n",
       "<span style=\"color: #000000; text-decoration-color: #000000; background-color: #b5cf6b\">                                                  </span>\n",
       "</pre>\n"
      ],
      "text/plain": [
       "\u001b[38;2;255;255;255;48;2;57;59;121m                                                  \u001b[0m\n",
       "\u001b[38;2;255;255;255;48;2;57;59;121m                      \u001b[0m\u001b[38;2;255;255;255;48;2;57;59;121mCPU 0\u001b[0m\u001b[38;2;255;255;255;48;2;57;59;121m                       \u001b[0m\n",
       "\u001b[38;2;255;255;255;48;2;57;59;121m                                                  \u001b[0m\n",
       "\u001b[38;2;255;255;255;48;2;222;158;214m                                                  \u001b[0m\n",
       "\u001b[38;2;255;255;255;48;2;222;158;214m                      \u001b[0m\u001b[38;2;255;255;255;48;2;222;158;214mCPU 1\u001b[0m\u001b[38;2;255;255;255;48;2;222;158;214m                       \u001b[0m\n",
       "\u001b[38;2;255;255;255;48;2;222;158;214m                                                  \u001b[0m\n",
       "\u001b[38;2;255;255;255;48;2;173;73;74m                                                  \u001b[0m\n",
       "\u001b[38;2;255;255;255;48;2;173;73;74m                      \u001b[0m\u001b[38;2;255;255;255;48;2;173;73;74mCPU 2\u001b[0m\u001b[38;2;255;255;255;48;2;173;73;74m                       \u001b[0m\n",
       "\u001b[38;2;255;255;255;48;2;173;73;74m                                                  \u001b[0m\n",
       "\u001b[38;2;0;0;0;48;2;181;207;107m                                                  \u001b[0m\n",
       "\u001b[38;2;0;0;0;48;2;181;207;107m                      \u001b[0m\u001b[38;2;0;0;0;48;2;181;207;107mCPU 3\u001b[0m\u001b[38;2;0;0;0;48;2;181;207;107m                       \u001b[0m\n",
       "\u001b[38;2;0;0;0;48;2;181;207;107m                                                  \u001b[0m\n"
      ]
     },
     "metadata": {},
     "output_type": "display_data"
    }
   ],
   "source": [
    "x_reshape = jax.device_put(x.reshape((4, -1, x.shape[-1])), sharding.reshape((-1, 1, 1)))\n",
    "jax.debug.visualize_array_sharding(x_reshape.reshape((x.shape[0], -1)))"
   ]
  },
  {
   "cell_type": "code",
   "execution_count": 118,
   "metadata": {},
   "outputs": [],
   "source": [
    "matmul_vmap = jaxm.jit(jaxm.vmap(matmul, in_axes=(0, None, None)))"
   ]
  },
  {
   "cell_type": "code",
   "execution_count": 124,
   "metadata": {},
   "outputs": [
    {
     "name": "stdout",
     "output_type": "stream",
     "text": [
      "39.6 ms ± 798 µs per loop (mean ± std. dev. of 7 runs, 10 loops each)\n"
     ]
    }
   ],
   "source": [
    "%timeit matmul_vmap(x, W, b).block_until_ready()"
   ]
  },
  {
   "cell_type": "code",
   "execution_count": 125,
   "metadata": {},
   "outputs": [],
   "source": [
    "W_replicate = jax.device_put(W, sharding.replicate())\n",
    "b_replicate = jax.device_put(b, sharding.replicate())"
   ]
  },
  {
   "cell_type": "code",
   "execution_count": 126,
   "metadata": {},
   "outputs": [
    {
     "name": "stdout",
     "output_type": "stream",
     "text": [
      "36.7 ms ± 1.58 ms per loop (mean ± std. dev. of 7 runs, 10 loops each)\n"
     ]
    }
   ],
   "source": [
    "%timeit matmul(x_reshape, W_replicate, b_replicate).block_until_ready()"
   ]
  },
  {
   "cell_type": "code",
   "execution_count": 123,
   "metadata": {},
   "outputs": [
    {
     "data": {
      "text/html": [
       "<pre style=\"white-space:pre;overflow-x:auto;line-height:normal;font-family:Menlo,'DejaVu Sans Mono',consolas,'Courier New',monospace\"><span style=\"color: #ffffff; text-decoration-color: #ffffff; background-color: #393b79\">                                                  </span>\n",
       "<span style=\"color: #ffffff; text-decoration-color: #ffffff; background-color: #393b79\">                                                  </span>\n",
       "<span style=\"color: #ffffff; text-decoration-color: #ffffff; background-color: #393b79\">                                                  </span>\n",
       "<span style=\"color: #ffffff; text-decoration-color: #ffffff; background-color: #393b79\">                                                  </span>\n",
       "<span style=\"color: #ffffff; text-decoration-color: #ffffff; background-color: #393b79\">                                                  </span>\n",
       "<span style=\"color: #ffffff; text-decoration-color: #ffffff; background-color: #393b79\">                      CPU 0                       </span>\n",
       "<span style=\"color: #ffffff; text-decoration-color: #ffffff; background-color: #393b79\">                                                  </span>\n",
       "<span style=\"color: #ffffff; text-decoration-color: #ffffff; background-color: #393b79\">                                                  </span>\n",
       "<span style=\"color: #ffffff; text-decoration-color: #ffffff; background-color: #393b79\">                                                  </span>\n",
       "<span style=\"color: #ffffff; text-decoration-color: #ffffff; background-color: #393b79\">                                                  </span>\n",
       "<span style=\"color: #ffffff; text-decoration-color: #ffffff; background-color: #393b79\">                                                  </span>\n",
       "</pre>\n"
      ],
      "text/plain": [
       "\u001b[38;2;255;255;255;48;2;57;59;121m                                                  \u001b[0m\n",
       "\u001b[38;2;255;255;255;48;2;57;59;121m                                                  \u001b[0m\n",
       "\u001b[38;2;255;255;255;48;2;57;59;121m                                                  \u001b[0m\n",
       "\u001b[38;2;255;255;255;48;2;57;59;121m                                                  \u001b[0m\n",
       "\u001b[38;2;255;255;255;48;2;57;59;121m                                                  \u001b[0m\n",
       "\u001b[38;2;255;255;255;48;2;57;59;121m                      \u001b[0m\u001b[38;2;255;255;255;48;2;57;59;121mCPU 0\u001b[0m\u001b[38;2;255;255;255;48;2;57;59;121m                       \u001b[0m\n",
       "\u001b[38;2;255;255;255;48;2;57;59;121m                                                  \u001b[0m\n",
       "\u001b[38;2;255;255;255;48;2;57;59;121m                                                  \u001b[0m\n",
       "\u001b[38;2;255;255;255;48;2;57;59;121m                                                  \u001b[0m\n",
       "\u001b[38;2;255;255;255;48;2;57;59;121m                                                  \u001b[0m\n",
       "\u001b[38;2;255;255;255;48;2;57;59;121m                                                  \u001b[0m\n"
      ]
     },
     "metadata": {},
     "output_type": "display_data"
    }
   ],
   "source": [
    "import jax\n",
    "jax.debug.visualize_array_sharding(x)"
   ]
  },
  {
   "cell_type": "code",
   "execution_count": 10,
   "metadata": {},
   "outputs": [],
   "source": [
    "x, y, axes = utils.arg_hist[0]"
   ]
  },
  {
   "cell_type": "code",
   "execution_count": 20,
   "metadata": {},
   "outputs": [],
   "source": [
    "for x_, y_, ax in zip(x, y, axes):\n",
    "    if ax is None:\n",
    "        continue\n",
    "    assert x_.ndim - 1 == y_.ndim\n",
    "    assert x_.shape[0] == 2\n",
    "    assert x_.shape[2:] == y_.shape[1:]\n"
   ]
  },
  {
   "cell_type": "code",
   "execution_count": null,
   "metadata": {},
   "outputs": [],
   "source": []
  },
  {
   "cell_type": "code",
   "execution_count": null,
   "metadata": {},
   "outputs": [],
   "source": []
  },
  {
   "cell_type": "code",
   "execution_count": null,
   "metadata": {},
   "outputs": [],
   "source": []
  }
 ],
 "metadata": {
  "kernelspec": {
   "display_name": "devel2",
   "language": "python",
   "name": "python3"
  },
  "language_info": {
   "codemirror_mode": {
    "name": "ipython",
    "version": 3
   },
   "file_extension": ".py",
   "mimetype": "text/x-python",
   "name": "python",
   "nbconvert_exporter": "python",
   "pygments_lexer": "ipython3",
   "version": "3.11.6"
  }
 },
 "nbformat": 4,
 "nbformat_minor": 2
}
